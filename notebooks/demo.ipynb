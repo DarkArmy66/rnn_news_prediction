{
 "cells": [
  {
   "cell_type": "code",
   "execution_count": 1,
   "metadata": {},
   "outputs": [
    {
     "name": "stdout",
     "output_type": "stream",
     "text": [
      "/Users/system2.0/Desktop/cidl/notebooks\n"
     ]
    }
   ],
   "source": [
    "!pwd"
   ]
  },
  {
   "cell_type": "code",
   "execution_count": 8,
   "metadata": {},
   "outputs": [],
   "source": [
    "\n",
    "import torch\n",
    "import torch.nn as nn\n",
    "from transformers import AutoTokenizer\n",
    "import ipywidgets as widgets\n",
    "from IPython.display import display\n"
   ]
  },
  {
   "cell_type": "code",
   "execution_count": 12,
   "metadata": {},
   "outputs": [],
   "source": [
    "import sys \n",
    "import os\n",
    "sys.path.append(os.path.abspath('../src'))"
   ]
  },
  {
   "cell_type": "code",
   "execution_count": 13,
   "metadata": {},
   "outputs": [],
   "source": [
    "from model import RNNModel"
   ]
  },
  {
   "cell_type": "code",
   "execution_count": 14,
   "metadata": {},
   "outputs": [
    {
     "data": {
      "application/vnd.jupyter.widget-view+json": {
       "model_id": "9976a6b05e6140a48fd2efdfacc86a78",
       "version_major": 2,
       "version_minor": 0
      },
      "text/plain": [
       "tokenizer_config.json:   0%|          | 0.00/48.0 [00:00<?, ?B/s]"
      ]
     },
     "metadata": {},
     "output_type": "display_data"
    },
    {
     "data": {
      "application/vnd.jupyter.widget-view+json": {
       "model_id": "b49e798512fd49a697c6e12daab59821",
       "version_major": 2,
       "version_minor": 0
      },
      "text/plain": [
       "config.json:   0%|          | 0.00/570 [00:00<?, ?B/s]"
      ]
     },
     "metadata": {},
     "output_type": "display_data"
    },
    {
     "data": {
      "application/vnd.jupyter.widget-view+json": {
       "model_id": "1cb6036f4a8f49f68cd2cf980bfbea4c",
       "version_major": 2,
       "version_minor": 0
      },
      "text/plain": [
       "vocab.txt:   0%|          | 0.00/232k [00:00<?, ?B/s]"
      ]
     },
     "metadata": {},
     "output_type": "display_data"
    },
    {
     "data": {
      "application/vnd.jupyter.widget-view+json": {
       "model_id": "01dc0da097de42acaa6a5aa2e9778214",
       "version_major": 2,
       "version_minor": 0
      },
      "text/plain": [
       "tokenizer.json:   0%|          | 0.00/466k [00:00<?, ?B/s]"
      ]
     },
     "metadata": {},
     "output_type": "display_data"
    },
    {
     "data": {
      "text/plain": [
       "RNNModel(\n",
       "  (embedding): Embedding(30522, 128)\n",
       "  (lstm): LSTM(128, 128, batch_first=True)\n",
       "  (fc): Linear(in_features=128, out_features=4, bias=True)\n",
       ")"
      ]
     },
     "execution_count": 14,
     "metadata": {},
     "output_type": "execute_result"
    }
   ],
   "source": [
    "# Ensure the tokenizer is defined\n",
    "tokenizer = AutoTokenizer.from_pretrained(\"bert-base-uncased\")\n",
    "max_len = 128  # Adjust if necessary\n",
    "\n",
    "# Define the necessary parameters\n",
    "vocab_size = 30522  # Adjust this based on your tokenizer\n",
    "embed_size = 128\n",
    "hidden_size = 128\n",
    "output_size = 4\n",
    "\n",
    "# Initialize the model\n",
    "model = RNNModel(vocab_size, embed_size, hidden_size, output_size)\n",
    "\n",
    "# Load the trained model weights\n",
    "model.load_state_dict(torch.load(\"../models/rnn_model.pth\"))\n",
    "model.eval()\n"
   ]
  },
  {
   "cell_type": "markdown",
   "metadata": {},
   "source": [
    "Widget"
   ]
  },
  {
   "cell_type": "code",
   "execution_count": null,
   "metadata": {},
   "outputs": [
    {
     "data": {
      "application/vnd.jupyter.widget-view+json": {
       "model_id": "0dcc1c4c5906489293ff27a09f1d0dca",
       "version_major": 2,
       "version_minor": 0
      },
      "text/plain": [
       "Textarea(value='', description='Input Text:', layout=Layout(height='100px', width='50%'), placeholder='Type a …"
      ]
     },
     "metadata": {},
     "output_type": "display_data"
    },
    {
     "data": {
      "application/vnd.jupyter.widget-view+json": {
       "model_id": "f1a06f8f7ad34f349f8693c5401ba910",
       "version_major": 2,
       "version_minor": 0
      },
      "text/plain": [
       "Button(button_style='success', description='Predict', icon='check', style=ButtonStyle(), tooltip='Click to get…"
      ]
     },
     "metadata": {},
     "output_type": "display_data"
    },
    {
     "data": {
      "application/vnd.jupyter.widget-view+json": {
       "model_id": "4306a18f463d4d6583537ca0e32da701",
       "version_major": 2,
       "version_minor": 0
      },
      "text/plain": [
       "Label(value='')"
      ]
     },
     "metadata": {},
     "output_type": "display_data"
    }
   ],
   "source": [
    "# Define a mapping from numbers to category names\n",
    "category_mapping = {\n",
    "    1: \"World\",\n",
    "    2: \"Sports\",\n",
    "    3: \"Business\",\n",
    "    4: \"Science/Technology\"\n",
    "}\n",
    "\n",
    "# Function to predict using the RNN model\n",
    "def predict_news_article(text):\n",
    "    tokenized_input = tokenizer(text, return_tensors='pt', truncation=True, padding='max_length', max_length=max_len)\n",
    "    input_ids = tokenized_input['input_ids']\n",
    "\n",
    "    model.eval()\n",
    "    with torch.no_grad():\n",
    "        output = model(input_ids)\n",
    "        prediction = torch.argmax(output, dim=1).item()\n",
    "    return category_mapping.get(prediction, \"Unknown\")\n",
    "\n",
    "# Define a simple function to process the user input\n",
    "def on_button_click(b):\n",
    "    text = text_box.value\n",
    "    prediction = predict_news_article(text)\n",
    "    result.value = f\"Prediction: {prediction}\"\n",
    "\n",
    "# Create the text input box\n",
    "text_box = widgets.Textarea(\n",
    "    placeholder='Type a news article here...',\n",
    "    description='Input Text:',\n",
    "    disabled=False,\n",
    "    layout=widgets.Layout(width='50%', height='100px')\n",
    ")\n",
    "\n",
    "# Create a button to submit the text\n",
    "submit_button = widgets.Button(\n",
    "    description='Predict',\n",
    "    disabled=False,\n",
    "    button_style='success',\n",
    "    tooltip='Click to get prediction',\n",
    "    icon='check'\n",
    ")\n",
    "\n",
    "# Create an output box to display the result\n",
    "result = widgets.Label(value='')\n",
    "\n",
    "# Link the button click event to the prediction function\n",
    "submit_button.on_click(on_button_click)\n",
    "\n",
    "# Display the widgets\n",
    "display(text_box, submit_button, result)\n",
    "\n"
   ]
  },
  {
   "cell_type": "code",
   "execution_count": null,
   "metadata": {},
   "outputs": [],
   "source": []
  }
 ],
 "metadata": {
  "kernelspec": {
   "display_name": "cidl",
   "language": "python",
   "name": "python3"
  },
  "language_info": {
   "codemirror_mode": {
    "name": "ipython",
    "version": 3
   },
   "file_extension": ".py",
   "mimetype": "text/x-python",
   "name": "python",
   "nbconvert_exporter": "python",
   "pygments_lexer": "ipython3",
   "version": "3.12.0"
  }
 },
 "nbformat": 4,
 "nbformat_minor": 2
}
